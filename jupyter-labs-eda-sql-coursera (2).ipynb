{
    "cells": [
        {
            "cell_type": "markdown",
            "metadata": {},
            "source": "### Connect to the database\n\nLet us first load the SQL extension and establish a connection with the database\n"
        },
        {
            "cell_type": "code",
            "execution_count": 4,
            "metadata": {},
            "outputs": [
                {
                    "name": "stdout",
                    "output_type": "stream",
                    "text": "Requirement already satisfied: sqlalchemy==1.3.9 in /home/jupyterlab/conda/envs/python/lib/python3.6/site-packages (1.3.9)\nRequirement already satisfied: ibm_db_sa in /home/jupyterlab/conda/envs/python/lib/python3.6/site-packages (0.3.3)\nRequirement already satisfied: sqlalchemy>=0.7.3 in /home/jupyterlab/conda/envs/python/lib/python3.6/site-packages (from ibm_db_sa) (1.3.9)\nRequirement already satisfied: ipython-sql in /home/jupyterlab/conda/envs/python/lib/python3.6/site-packages (0.3.9)\nRequirement already satisfied: ipython>=1.0 in /home/jupyterlab/conda/envs/python/lib/python3.6/site-packages (from ipython-sql) (7.16.1)\nRequirement already satisfied: sqlparse in /home/jupyterlab/conda/envs/python/lib/python3.6/site-packages (from ipython-sql) (0.4.1)\nRequirement already satisfied: prettytable in /home/jupyterlab/conda/envs/python/lib/python3.6/site-packages (from ipython-sql) (2.1.0)\nRequirement already satisfied: ipython-genutils>=0.1.0 in /home/jupyterlab/conda/envs/python/lib/python3.6/site-packages (from ipython-sql) (0.2.0)\nRequirement already satisfied: sqlalchemy>=0.6.7 in /home/jupyterlab/conda/envs/python/lib/python3.6/site-packages (from ipython-sql) (1.3.9)\nRequirement already satisfied: six in /home/jupyterlab/conda/envs/python/lib/python3.6/site-packages (from ipython-sql) (1.15.0)\nRequirement already satisfied: decorator in /home/jupyterlab/conda/envs/python/lib/python3.6/site-packages (from ipython>=1.0->ipython-sql) (4.4.2)\nRequirement already satisfied: backcall in /home/jupyterlab/conda/envs/python/lib/python3.6/site-packages (from ipython>=1.0->ipython-sql) (0.2.0)\nRequirement already satisfied: prompt-toolkit!=3.0.0,!=3.0.1,<3.1.0,>=2.0.0 in /home/jupyterlab/conda/envs/python/lib/python3.6/site-packages (from ipython>=1.0->ipython-sql) (3.0.19)\nRequirement already satisfied: pexpect; sys_platform != \"win32\" in /home/jupyterlab/conda/envs/python/lib/python3.6/site-packages (from ipython>=1.0->ipython-sql) (4.8.0)\nRequirement already satisfied: pygments in /home/jupyterlab/conda/envs/python/lib/python3.6/site-packages (from ipython>=1.0->ipython-sql) (2.9.0)\nRequirement already satisfied: traitlets>=4.2 in /home/jupyterlab/conda/envs/python/lib/python3.6/site-packages (from ipython>=1.0->ipython-sql) (4.3.3)\nRequirement already satisfied: jedi>=0.10 in /home/jupyterlab/conda/envs/python/lib/python3.6/site-packages (from ipython>=1.0->ipython-sql) (0.17.2)\nRequirement already satisfied: pickleshare in /home/jupyterlab/conda/envs/python/lib/python3.6/site-packages (from ipython>=1.0->ipython-sql) (0.7.5)\nRequirement already satisfied: setuptools>=18.5 in /home/jupyterlab/conda/envs/python/lib/python3.6/site-packages (from ipython>=1.0->ipython-sql) (49.6.0.post20210108)\nRequirement already satisfied: wcwidth in /home/jupyterlab/conda/envs/python/lib/python3.6/site-packages (from prettytable->ipython-sql) (0.2.5)\nRequirement already satisfied: importlib-metadata; python_version < \"3.8\" in /home/jupyterlab/conda/envs/python/lib/python3.6/site-packages (from prettytable->ipython-sql) (4.6.1)\nRequirement already satisfied: ptyprocess>=0.5 in /home/jupyterlab/conda/envs/python/lib/python3.6/site-packages (from pexpect; sys_platform != \"win32\"->ipython>=1.0->ipython-sql) (0.7.0)\nRequirement already satisfied: parso<0.8.0,>=0.7.0 in /home/jupyterlab/conda/envs/python/lib/python3.6/site-packages (from jedi>=0.10->ipython>=1.0->ipython-sql) (0.7.1)\nRequirement already satisfied: zipp>=0.5 in /home/jupyterlab/conda/envs/python/lib/python3.6/site-packages (from importlib-metadata; python_version < \"3.8\"->prettytable->ipython-sql) (3.5.0)\nRequirement already satisfied: typing-extensions>=3.6.4; python_version < \"3.8\" in /home/jupyterlab/conda/envs/python/lib/python3.6/site-packages (from importlib-metadata; python_version < \"3.8\"->prettytable->ipython-sql) (3.10.0.0)\n"
                }
            ],
            "source": "!pip install sqlalchemy==1.3.9\n!pip install ibm_db_sa\n!pip install ipython-sql"
        },
        {
            "cell_type": "code",
            "execution_count": 5,
            "metadata": {},
            "outputs": [
                {
                    "name": "stdout",
                    "output_type": "stream",
                    "text": "The sql extension is already loaded. To reload it, use:\n  %reload_ext sql\n"
                }
            ],
            "source": "%load_ext sql"
        },
        {
            "cell_type": "code",
            "execution_count": 10,
            "metadata": {},
            "outputs": [
                {
                    "data": {
                        "text/plain": "'Connected: rhf78973@bludb'"
                    },
                    "execution_count": 10,
                    "metadata": {},
                    "output_type": "execute_result"
                }
            ],
            "source": "# Remember the connection string is of the format:\n# %sql ibm_db_sa://my-username:my-password@my-hostname:my-port/my-db-name?security=SSL\n# Enter the connection string for your Db2 on Cloud database instance below\n%sql ibm_db_sa://rhf78973:iVYgNU6ApSiwbz3K@0c77d6f2-5da9-48a9-81f8-86b520b87518.bs2io90l08kqb1od8lcg.databases.appdomain.cloud:31198/bludb?security=SSL\n"
        },
        {
            "cell_type": "markdown",
            "metadata": {},
            "source": "## Tasks\n\nNow write and execute SQL queries to solve the assignment tasks.\n\n### Task 1\n\n##### Display the names of the unique launch sites  in the space mission\n"
        },
        {
            "cell_type": "code",
            "execution_count": 12,
            "metadata": {},
            "outputs": [
                {
                    "name": "stdout",
                    "output_type": "stream",
                    "text": " * ibm_db_sa://rhf78973:***@0c77d6f2-5da9-48a9-81f8-86b520b87518.bs2io90l08kqb1od8lcg.databases.appdomain.cloud:31198/bludb\nDone.\n"
                },
                {
                    "data": {
                        "text/html": "<table>\n    <thead>\n        <tr>\n            <th>launch_site</th>\n        </tr>\n    </thead>\n    <tbody>\n        <tr>\n            <td>CCAFS LC-40</td>\n        </tr>\n        <tr>\n            <td>CCAFS LC/40</td>\n        </tr>\n        <tr>\n            <td>CCAFS SLC-40</td>\n        </tr>\n        <tr>\n            <td>KSC LC-39A</td>\n        </tr>\n        <tr>\n            <td>VAFB SLC-4E</td>\n        </tr>\n    </tbody>\n</table>",
                        "text/plain": "[('CCAFS LC-40',),\n ('CCAFS LC/40',),\n ('CCAFS SLC-40',),\n ('KSC LC-39A',),\n ('VAFB SLC-4E',)]"
                    },
                    "execution_count": 12,
                    "metadata": {},
                    "output_type": "execute_result"
                }
            ],
            "source": "%%sql\nselect distinct Launch_Site from SPACEXDATASET"
        },
        {
            "cell_type": "markdown",
            "metadata": {},
            "source": "### Task 2\n\n##### Display 5 records where launch sites begin with the string 'CCA'"
        },
        {
            "cell_type": "code",
            "execution_count": 17,
            "metadata": {},
            "outputs": [
                {
                    "name": "stdout",
                    "output_type": "stream",
                    "text": " * ibm_db_sa://rhf78973:***@0c77d6f2-5da9-48a9-81f8-86b520b87518.bs2io90l08kqb1od8lcg.databases.appdomain.cloud:31198/bludb\nDone.\n"
                },
                {
                    "data": {
                        "text/html": "<table>\n    <thead>\n        <tr>\n            <th>DATE</th>\n            <th>time__utc_</th>\n            <th>booster_version</th>\n            <th>launch_site</th>\n            <th>payload</th>\n            <th>payload_mass__kg_</th>\n            <th>orbit</th>\n            <th>customer</th>\n            <th>mission_outcome</th>\n            <th>landing__outcome</th>\n        </tr>\n    </thead>\n    <tbody>\n        <tr>\n            <td>2010-06-04</td>\n            <td>18:45:00</td>\n            <td>F9 v1.0  B0003</td>\n            <td>CCAFS LC/40</td>\n            <td>Dragon Spacecraft Qualification Unit</td>\n            <td>0</td>\n            <td>LEO</td>\n            <td>SpaceX</td>\n            <td>Success</td>\n            <td>Failure (parachute)</td>\n        </tr>\n        <tr>\n            <td>2010-12-08</td>\n            <td>15:43:00</td>\n            <td>F9 v1.0  B0004</td>\n            <td>CCAFS LC-40</td>\n            <td>Dragon demo flight C1, two CubeSats, barrel of Brouere cheese</td>\n            <td>0</td>\n            <td>LEO (ISS)</td>\n            <td>NASA (COTS) NRO</td>\n            <td>Success</td>\n            <td>Failure (parachute)</td>\n        </tr>\n        <tr>\n            <td>2012-05-22</td>\n            <td>07:44:00</td>\n            <td>F9 v1.0  B0005</td>\n            <td>CCAFS LC-40</td>\n            <td>Dragon demo flight C2</td>\n            <td>525</td>\n            <td>LEO (ISS)</td>\n            <td>NASA (COTS)</td>\n            <td>Success</td>\n            <td>No attempt</td>\n        </tr>\n        <tr>\n            <td>2012-10-08</td>\n            <td>00:35:00</td>\n            <td>F9 v1.0  B0006</td>\n            <td>CCAFS LC-40</td>\n            <td>SpaceX CRS-1</td>\n            <td>500</td>\n            <td>LEO (ISS)</td>\n            <td>NASA (CRS)</td>\n            <td>Success</td>\n            <td>No attempt</td>\n        </tr>\n        <tr>\n            <td>2013-03-01</td>\n            <td>15:10:00</td>\n            <td>F9 v1.0  B0007</td>\n            <td>CCAFS LC-40</td>\n            <td>SpaceX CRS-2</td>\n            <td>677</td>\n            <td>LEO (ISS)</td>\n            <td>NASA (CRS)</td>\n            <td>Success</td>\n            <td>No attempt</td>\n        </tr>\n    </tbody>\n</table>",
                        "text/plain": "[(datetime.date(2010, 6, 4), datetime.time(18, 45), 'F9 v1.0  B0003', 'CCAFS LC/40', 'Dragon Spacecraft Qualification Unit', 0, 'LEO', 'SpaceX', 'Success', 'Failure (parachute)'),\n (datetime.date(2010, 12, 8), datetime.time(15, 43), 'F9 v1.0  B0004', 'CCAFS LC-40', 'Dragon demo flight C1, two CubeSats, barrel of Brouere cheese', 0, 'LEO (ISS)', 'NASA (COTS) NRO', 'Success', 'Failure (parachute)'),\n (datetime.date(2012, 5, 22), datetime.time(7, 44), 'F9 v1.0  B0005', 'CCAFS LC-40', 'Dragon demo flight C2', 525, 'LEO (ISS)', 'NASA (COTS)', 'Success', 'No attempt'),\n (datetime.date(2012, 10, 8), datetime.time(0, 35), 'F9 v1.0  B0006', 'CCAFS LC-40', 'SpaceX CRS-1', 500, 'LEO (ISS)', 'NASA (CRS)', 'Success', 'No attempt'),\n (datetime.date(2013, 3, 1), datetime.time(15, 10), 'F9 v1.0  B0007', 'CCAFS LC-40', 'SpaceX CRS-2', 677, 'LEO (ISS)', 'NASA (CRS)', 'Success', 'No attempt')]"
                    },
                    "execution_count": 17,
                    "metadata": {},
                    "output_type": "execute_result"
                }
            ],
            "source": "%%sql\nselect * from SPACEXDATASET WHERE Launch_Site LIKE 'CCA%' limit 5 "
        },
        {
            "cell_type": "markdown",
            "metadata": {},
            "source": "### Task 3\n\n##### Display the total payload mass carried by boosters launched by NASA (CRS)\n"
        },
        {
            "cell_type": "code",
            "execution_count": 24,
            "metadata": {},
            "outputs": [
                {
                    "name": "stdout",
                    "output_type": "stream",
                    "text": " * ibm_db_sa://rhf78973:***@0c77d6f2-5da9-48a9-81f8-86b520b87518.bs2io90l08kqb1od8lcg.databases.appdomain.cloud:31198/bludb\nDone.\n"
                },
                {
                    "data": {
                        "text/html": "<table>\n    <thead>\n        <tr>\n            <th>1</th>\n        </tr>\n    </thead>\n    <tbody>\n        <tr>\n            <td>45596</td>\n        </tr>\n    </tbody>\n</table>",
                        "text/plain": "[(45596,)]"
                    },
                    "execution_count": 24,
                    "metadata": {},
                    "output_type": "execute_result"
                }
            ],
            "source": "%%sql\nselect sum(PAYLOAD_MASS__KG_) from SPACEXDATASET where Customer='NASA (CRS)'"
        },
        {
            "cell_type": "markdown",
            "metadata": {},
            "source": "### Task 4\n\n##### Display average payload mass carried by booster version F9 v1.1\n"
        },
        {
            "cell_type": "code",
            "execution_count": 27,
            "metadata": {},
            "outputs": [
                {
                    "name": "stdout",
                    "output_type": "stream",
                    "text": " * ibm_db_sa://rhf78973:***@0c77d6f2-5da9-48a9-81f8-86b520b87518.bs2io90l08kqb1od8lcg.databases.appdomain.cloud:31198/bludb\nDone.\n"
                },
                {
                    "data": {
                        "text/html": "<table>\n    <thead>\n        <tr>\n            <th>1</th>\n        </tr>\n    </thead>\n    <tbody>\n        <tr>\n            <td>2928</td>\n        </tr>\n    </tbody>\n</table>",
                        "text/plain": "[(2928,)]"
                    },
                    "execution_count": 27,
                    "metadata": {},
                    "output_type": "execute_result"
                }
            ],
            "source": "%%sql\nselect avg(PAYLOAD_MASS__KG_) from SPACEXDATASET where BOOSTER_VERSION='F9 v1.1'"
        },
        {
            "cell_type": "markdown",
            "metadata": {},
            "source": "### Task 5\n\n##### List the date when the first successful landing outcome in ground pad was acheived.\n\n*Hint:Use min function*"
        },
        {
            "cell_type": "code",
            "execution_count": 37,
            "metadata": {},
            "outputs": [
                {
                    "name": "stdout",
                    "output_type": "stream",
                    "text": " * ibm_db_sa://rhf78973:***@0c77d6f2-5da9-48a9-81f8-86b520b87518.bs2io90l08kqb1od8lcg.databases.appdomain.cloud:31198/bludb\nDone.\n"
                },
                {
                    "data": {
                        "text/html": "<table>\n    <thead>\n        <tr>\n            <th>1</th>\n        </tr>\n    </thead>\n    <tbody>\n        <tr>\n            <td>2018-07-22</td>\n        </tr>\n    </tbody>\n</table>",
                        "text/plain": "[(datetime.date(2018, 7, 22),)]"
                    },
                    "execution_count": 37,
                    "metadata": {},
                    "output_type": "execute_result"
                }
            ],
            "source": "%%sql \nselect min(TDATE) from SPACEXDATASET where LANDING__OUTCOME='Success'"
        },
        {
            "cell_type": "markdown",
            "metadata": {},
            "source": "### Task 6\n\n##### List the names of the boosters which have success in drone ship and have payload mass greater than 4000 but less than 6000\n"
        },
        {
            "cell_type": "code",
            "execution_count": 41,
            "metadata": {},
            "outputs": [
                {
                    "name": "stdout",
                    "output_type": "stream",
                    "text": " * ibm_db_sa://rhf78973:***@0c77d6f2-5da9-48a9-81f8-86b520b87518.bs2io90l08kqb1od8lcg.databases.appdomain.cloud:31198/bludb\nDone.\n"
                },
                {
                    "data": {
                        "text/html": "<table>\n    <thead>\n        <tr>\n            <th>booster_version</th>\n        </tr>\n    </thead>\n    <tbody>\n        <tr>\n            <td>F9 FT B1022</td>\n        </tr>\n        <tr>\n            <td>F9 FT B1026</td>\n        </tr>\n        <tr>\n            <td>F9 FT  B1021.2</td>\n        </tr>\n        <tr>\n            <td>F9 FT  B1031.2</td>\n        </tr>\n    </tbody>\n</table>",
                        "text/plain": "[('F9 FT B1022',), ('F9 FT B1026',), ('F9 FT  B1021.2',), ('F9 FT  B1031.2',)]"
                    },
                    "execution_count": 41,
                    "metadata": {},
                    "output_type": "execute_result"
                }
            ],
            "source": "%%sql\nselect Booster_Version from SPACEXDATASET where LANDING__OUTCOME='Success (drone ship)'\nAND PAYLOAD_MASS__KG_ > 4000 \nAND PAYLOAD_MASS__KG_ < 6000"
        },
        {
            "cell_type": "markdown",
            "metadata": {},
            "source": "### Task 7\n\n##### List the total number of successful and failure mission outcomes\n"
        },
        {
            "cell_type": "code",
            "execution_count": 50,
            "metadata": {},
            "outputs": [
                {
                    "name": "stdout",
                    "output_type": "stream",
                    "text": " * ibm_db_sa://rhf78973:***@0c77d6f2-5da9-48a9-81f8-86b520b87518.bs2io90l08kqb1od8lcg.databases.appdomain.cloud:31198/bludb\nDone.\n"
                },
                {
                    "data": {
                        "text/html": "<table>\n    <thead>\n        <tr>\n            <th>1</th>\n        </tr>\n    </thead>\n    <tbody>\n        <tr>\n            <td>1</td>\n        </tr>\n        <tr>\n            <td>99</td>\n        </tr>\n        <tr>\n            <td>1</td>\n        </tr>\n    </tbody>\n</table>",
                        "text/plain": "[(1,), (99,), (1,)]"
                    },
                    "execution_count": 50,
                    "metadata": {},
                    "output_type": "execute_result"
                }
            ],
            "source": "%%sql\nselect count(MISSION_OUTCOME) from SPACEXDATASET group by MISSION_OUTCOME\n"
        },
        {
            "cell_type": "markdown",
            "metadata": {},
            "source": "### Task 8\n\n##### List the   names of the booster_versions which have carried the maximum payload mass. Use a subquery\n"
        },
        {
            "cell_type": "code",
            "execution_count": 55,
            "metadata": {},
            "outputs": [
                {
                    "name": "stdout",
                    "output_type": "stream",
                    "text": " * ibm_db_sa://rhf78973:***@0c77d6f2-5da9-48a9-81f8-86b520b87518.bs2io90l08kqb1od8lcg.databases.appdomain.cloud:31198/bludb\nDone.\n"
                },
                {
                    "data": {
                        "text/html": "<table>\n    <thead>\n        <tr>\n            <th>booster_version</th>\n        </tr>\n    </thead>\n    <tbody>\n        <tr>\n            <td>F9 B5 B1048.4</td>\n        </tr>\n        <tr>\n            <td>F9 B5 B1048.5</td>\n        </tr>\n        <tr>\n            <td>F9 B5 B1049.4</td>\n        </tr>\n        <tr>\n            <td>F9 B5 B1049.5</td>\n        </tr>\n        <tr>\n            <td>F9 B5 B1049.7</td>\n        </tr>\n        <tr>\n            <td>F9 B5 B1051.3</td>\n        </tr>\n        <tr>\n            <td>F9 B5 B1051.4</td>\n        </tr>\n        <tr>\n            <td>F9 B5 B1051.6</td>\n        </tr>\n        <tr>\n            <td>F9 B5 B1056.4</td>\n        </tr>\n        <tr>\n            <td>F9 B5 B1058.3</td>\n        </tr>\n        <tr>\n            <td>F9 B5 B1060.2</td>\n        </tr>\n        <tr>\n            <td>F9 B5 B1060.3</td>\n        </tr>\n    </tbody>\n</table>",
                        "text/plain": "[('F9 B5 B1048.4',),\n ('F9 B5 B1048.5',),\n ('F9 B5 B1049.4',),\n ('F9 B5 B1049.5',),\n ('F9 B5 B1049.7',),\n ('F9 B5 B1051.3',),\n ('F9 B5 B1051.4',),\n ('F9 B5 B1051.6',),\n ('F9 B5 B1056.4',),\n ('F9 B5 B1058.3',),\n ('F9 B5 B1060.2',),\n ('F9 B5 B1060.3',)]"
                    },
                    "execution_count": 55,
                    "metadata": {},
                    "output_type": "execute_result"
                }
            ],
            "source": "%%sql\nselect distinct Booster_Version from SPACEXDATASET where  PAYLOAD_MASS__KG_ = (select max(PAYLOAD_MASS__KG_) from SPACEXDATASET)"
        },
        {
            "cell_type": "markdown",
            "metadata": {},
            "source": "### Task 9\n\n##### List the failed landing_outcomes in drone ship, their booster versions, and launch site names for in year 2015\n"
        },
        {
            "cell_type": "code",
            "execution_count": 57,
            "metadata": {},
            "outputs": [
                {
                    "name": "stdout",
                    "output_type": "stream",
                    "text": " * ibm_db_sa://rhf78973:***@0c77d6f2-5da9-48a9-81f8-86b520b87518.bs2io90l08kqb1od8lcg.databases.appdomain.cloud:31198/bludb\nDone.\n"
                },
                {
                    "data": {
                        "text/html": "<table>\n    <thead>\n        <tr>\n            <th>landing__outcome</th>\n            <th>booster_version</th>\n            <th>launch_site</th>\n            <th>tdate</th>\n        </tr>\n    </thead>\n    <tbody>\n        <tr>\n            <td>Failure (drone ship)</td>\n            <td>F9 v1.1 B1012</td>\n            <td>CCAFS LC-40</td>\n            <td>2015-01-10</td>\n        </tr>\n        <tr>\n            <td>Controlled (ocean)</td>\n            <td>F9 v1.1 B1013</td>\n            <td>CCAFS LC-40</td>\n            <td>2015-02-11</td>\n        </tr>\n        <tr>\n            <td>No attempt</td>\n            <td>F9 v1.1 B1014</td>\n            <td>CCAFS LC-40</td>\n            <td>2015-03-02</td>\n        </tr>\n        <tr>\n            <td>Failure (drone ship)</td>\n            <td>F9 v1.1 B1015</td>\n            <td>CCAFS LC-40</td>\n            <td>2015-04-14</td>\n        </tr>\n        <tr>\n            <td>No attempt</td>\n            <td>F9 v1.1 B1016</td>\n            <td>CCAFS LC-40</td>\n            <td>2015-04-27</td>\n        </tr>\n        <tr>\n            <td>Precluded (drone ship)</td>\n            <td>F9 v1.1 B1018</td>\n            <td>CCAFS LC-40</td>\n            <td>2015-06-28</td>\n        </tr>\n        <tr>\n            <td>Success (ground pad)</td>\n            <td>F9 FT B1019</td>\n            <td>CCAFS LC-40</td>\n            <td>2015-12-22</td>\n        </tr>\n    </tbody>\n</table>",
                        "text/plain": "[('Failure (drone ship)', 'F9 v1.1 B1012', 'CCAFS LC-40', datetime.date(2015, 1, 10)),\n ('Controlled (ocean)', 'F9 v1.1 B1013', 'CCAFS LC-40', datetime.date(2015, 2, 11)),\n ('No attempt', 'F9 v1.1 B1014', 'CCAFS LC-40', datetime.date(2015, 3, 2)),\n ('Failure (drone ship)', 'F9 v1.1 B1015', 'CCAFS LC-40', datetime.date(2015, 4, 14)),\n ('No attempt', 'F9 v1.1 B1016', 'CCAFS LC-40', datetime.date(2015, 4, 27)),\n ('Precluded (drone ship)', 'F9 v1.1 B1018', 'CCAFS LC-40', datetime.date(2015, 6, 28)),\n ('Success (ground pad)', 'F9 FT B1019', 'CCAFS LC-40', datetime.date(2015, 12, 22))]"
                    },
                    "execution_count": 57,
                    "metadata": {},
                    "output_type": "execute_result"
                }
            ],
            "source": "%%sql\nselect LANDING__OUTCOME, Booster_Version,LAUNCH_SITE,tdate from SPACEXDATASET where  year(tdate) =2015"
        },
        {
            "cell_type": "markdown",
            "metadata": {},
            "source": "Double-click **here** for a hint\n\n<!--\nQuery for the 'community area number' that is most crime prone.\n-->\n"
        },
        {
            "cell_type": "markdown",
            "metadata": {},
            "source": "### Task 10\n\n##### Rank the count of landing outcomes (such as Failure (drone ship) or Success (ground pad)) between the date 2010-06-04 and 2017-03-20, in descending order\n"
        },
        {
            "cell_type": "code",
            "execution_count": 65,
            "metadata": {},
            "outputs": [
                {
                    "name": "stdout",
                    "output_type": "stream",
                    "text": " * ibm_db_sa://rhf78973:***@0c77d6f2-5da9-48a9-81f8-86b520b87518.bs2io90l08kqb1od8lcg.databases.appdomain.cloud:31198/bludb\nDone.\n"
                },
                {
                    "data": {
                        "text/html": "<table>\n    <thead>\n        <tr>\n            <th>landing__outcome</th>\n            <th>2</th>\n        </tr>\n    </thead>\n    <tbody>\n        <tr>\n            <td>Controlled (ocean)</td>\n            <td>3</td>\n        </tr>\n        <tr>\n            <td>Failure (drone ship)</td>\n            <td>5</td>\n        </tr>\n        <tr>\n            <td>Failure (parachute)</td>\n            <td>1</td>\n        </tr>\n        <tr>\n            <td>No attempt</td>\n            <td>10</td>\n        </tr>\n        <tr>\n            <td>Precluded (drone ship)</td>\n            <td>1</td>\n        </tr>\n        <tr>\n            <td>Success (drone ship)</td>\n            <td>5</td>\n        </tr>\n        <tr>\n            <td>Success (ground pad)</td>\n            <td>3</td>\n        </tr>\n        <tr>\n            <td>Uncontrolled (ocean)</td>\n            <td>2</td>\n        </tr>\n    </tbody>\n</table>",
                        "text/plain": "[('Controlled (ocean)', 3),\n ('Failure (drone ship)', 5),\n ('Failure (parachute)', 1),\n ('No attempt', 10),\n ('Precluded (drone ship)', 1),\n ('Success (drone ship)', 5),\n ('Success (ground pad)', 3),\n ('Uncontrolled (ocean)', 2)]"
                    },
                    "execution_count": 65,
                    "metadata": {},
                    "output_type": "execute_result"
                }
            ],
            "source": "%%sql\nselect LANDING__OUTCOME,count(LANDING__OUTCOME) from SPACEXDATASET where tdate >'2010-06-04' and tdate <'2017-03-20' group by LANDING__OUTCOME"
        }
    ],
    "metadata": {
        "kernelspec": {
            "display_name": "Python",
            "language": "python",
            "name": "conda-env-python-py"
        },
        "language_info": {
            "codemirror_mode": {
                "name": "ipython",
                "version": 3
            },
            "file_extension": ".py",
            "mimetype": "text/x-python",
            "name": "python",
            "nbconvert_exporter": "python",
            "pygments_lexer": "ipython3",
            "version": "3.6.13"
        },
        "widgets": {
            "state": {},
            "version": "1.1.2"
        }
    },
    "nbformat": 4,
    "nbformat_minor": 4
}